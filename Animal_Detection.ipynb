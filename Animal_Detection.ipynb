{
  "nbformat": 4,
  "nbformat_minor": 0,
  "metadata": {
    "colab": {
      "provenance": []
    },
    "kernelspec": {
      "name": "python3",
      "display_name": "Python 3"
    },
    "language_info": {
      "name": "python"
    }
  },
  "cells": [
    {
      "cell_type": "code",
      "source": [
        "pip install --upgrade opencv-python\n"
      ],
      "metadata": {
        "colab": {
          "base_uri": "https://localhost:8080/"
        },
        "id": "LcdKmqp6WTs_",
        "outputId": "b3ade7ee-914d-4007-8b02-9f54d77001fc"
      },
      "execution_count": 2,
      "outputs": [
        {
          "output_type": "stream",
          "name": "stdout",
          "text": [
            "Requirement already satisfied: opencv-python in /usr/local/lib/python3.10/dist-packages (4.9.0.80)\n",
            "Requirement already satisfied: numpy>=1.21.2 in /usr/local/lib/python3.10/dist-packages (from opencv-python) (1.25.2)\n"
          ]
        }
      ]
    },
    {
      "cell_type": "code",
      "source": [
        "import tensorflow as tf\n",
        "import numpy as np\n",
        "from PIL import Image\n",
        "\n",
        "# Load pre-trained MobileNetV2 model\n",
        "model = tf.keras.applications.MobileNetV2(weights='imagenet', include_top=True)\n",
        "\n",
        "# Load and preprocess images, converting to RGB format\n",
        "image_paths = [\"Rabbit.jpeg\", \"dog.jpeg\",\"human.jpeg\"]\n",
        "images = [np.array(Image.open(path).resize((224, 224)).convert('RGB')) for path in image_paths]\n",
        "images = [tf.keras.applications.mobilenet_v2.preprocess_input(img) for img in images]\n",
        "\n",
        "# Perform inference on each image\n",
        "predictions = [model.predict(np.expand_dims(img, axis=0)) for img in images]\n",
        "predicted_labels = [tf.keras.applications.mobilenet_v2.decode_predictions(pred)[0] for pred in predictions]\n",
        "\n",
        "# Display results\n",
        "for i, labels in enumerate(predicted_labels):\n",
        "    print(f\"Image {i+1}:\")\n",
        "    for label in labels:\n",
        "        print(f\"{label[1]}: {label[2]*100:.2f}%\")\n",
        "    print()\n"
      ],
      "metadata": {
        "colab": {
          "base_uri": "https://localhost:8080/"
        },
        "id": "H9ql8NcuWx7J",
        "outputId": "0c2262b5-fe50-4664-d97e-f229c21cf0a9"
      },
      "execution_count": 10,
      "outputs": [
        {
          "output_type": "stream",
          "name": "stdout",
          "text": [
            "1/1 [==============================] - 1s 959ms/step\n",
            "1/1 [==============================] - 0s 62ms/step\n",
            "1/1 [==============================] - 0s 56ms/step\n",
            "Image 1:\n",
            "hare: 64.11%\n",
            "Angora: 15.17%\n",
            "wood_rabbit: 1.63%\n",
            "fox_squirrel: 0.36%\n",
            "hamster: 0.34%\n",
            "\n",
            "Image 2:\n",
            "dingo: 31.47%\n",
            "Eskimo_dog: 15.04%\n",
            "Great_Dane: 3.27%\n",
            "German_shepherd: 2.90%\n",
            "Saluki: 2.65%\n",
            "\n",
            "Image 3:\n",
            "military_uniform: 11.46%\n",
            "Indian_cobra: 2.63%\n",
            "sunglass: 2.42%\n",
            "drumstick: 2.09%\n",
            "cleaver: 2.09%\n",
            "\n"
          ]
        }
      ]
    },
    {
      "cell_type": "code",
      "source": [
        "from IPython.display import display, Javascript, Image\n",
        "from google.colab.output import eval_js\n",
        "from base64 import b64decode\n",
        "import cv2\n",
        "import numpy as np\n",
        "import tensorflow as tf\n",
        "\n",
        "# Load pre-trained MobileNetV2 model\n",
        "model = tf.keras.applications.MobileNetV2(weights='imagenet', include_top=True)\n",
        "class_names = tf.keras.utils.get_file('ImageNetLabels.txt','https://storage.googleapis.com/download.tensorflow.org/data/ImageNetLabels.txt')\n",
        "class_names = np.array(open(class_names).read().splitlines())\n",
        "\n",
        "def take_photo_and_classify(quality=0.8):\n",
        "    js = Javascript('''\n",
        "        async function takePhoto(quality) {\n",
        "          const div = document.createElement('div');\n",
        "          const capture = document.createElement('button');\n",
        "          capture.textContent = 'Capture';\n",
        "          div.appendChild(capture);\n",
        "\n",
        "          const video = document.createElement('video');\n",
        "          video.style.display = 'block';\n",
        "          const stream = await navigator.mediaDevices.getUserMedia({video: true});\n",
        "\n",
        "          document.body.appendChild(div);\n",
        "          div.appendChild(video);\n",
        "          video.srcObject = stream;\n",
        "          await video.play();\n",
        "\n",
        "          // Resize the output to fit the video element.\n",
        "          google.colab.output.setIframeHeight(document.documentElement.scrollHeight, true);\n",
        "\n",
        "          // Wait for Capture to be clicked.\n",
        "          await new Promise((resolve) => capture.onclick = resolve);\n",
        "\n",
        "          const canvas = document.createElement('canvas');\n",
        "          canvas.width = video.videoWidth;\n",
        "          canvas.height = video.videoHeight;\n",
        "          canvas.getContext('2d').drawImage(video, 0, 0);\n",
        "          stream.getVideoTracks()[0].stop();\n",
        "          div.remove();\n",
        "          return canvas.toDataURL('image/jpeg', quality);\n",
        "        }\n",
        "    ''')\n",
        "\n",
        "    display(js)\n",
        "    data = eval_js('takePhoto({})'.format(quality))\n",
        "    binary = b64decode(data.split(',')[1])\n",
        "\n",
        "    # Save the captured image\n",
        "    filename = 'photo.jpg'\n",
        "    with open(filename, 'wb') as f:\n",
        "        f.write(binary)\n",
        "\n",
        "    # Load and preprocess the captured image\n",
        "    img = tf.keras.preprocessing.image.load_img(filename, target_size=(224, 224))\n",
        "    img_array = tf.keras.preprocessing.image.img_to_array(img)\n",
        "    img_array = tf.expand_dims(img_array, 0)\n",
        "    img_array = tf.keras.applications.mobilenet_v2.preprocess_input(img_array)\n",
        "\n",
        "    # Perform inference\n",
        "    predictions = model.predict(img_array)\n",
        "    predicted_label_index = np.argmax(predictions)\n",
        "    predicted_label = class_names[predicted_label_index]\n",
        "\n",
        "    # Display classification result\n",
        "    print(\"Predicted label:\", predicted_label)\n",
        "\n",
        "try:\n",
        "    take_photo_and_classify()\n",
        "except Exception as err:\n",
        "    print(str(err))\n"
      ],
      "metadata": {
        "colab": {
          "base_uri": "https://localhost:8080/",
          "height": 91
        },
        "id": "al2-wDZOarzv",
        "outputId": "535d0923-df46-4933-ef45-35187ac8e6c8"
      },
      "execution_count": 18,
      "outputs": [
        {
          "output_type": "display_data",
          "data": {
            "text/plain": [
              "<IPython.core.display.Javascript object>"
            ],
            "application/javascript": [
              "\n",
              "        async function takePhoto(quality) {\n",
              "          const div = document.createElement('div');\n",
              "          const capture = document.createElement('button');\n",
              "          capture.textContent = 'Capture';\n",
              "          div.appendChild(capture);\n",
              "\n",
              "          const video = document.createElement('video');\n",
              "          video.style.display = 'block';\n",
              "          const stream = await navigator.mediaDevices.getUserMedia({video: true});\n",
              "\n",
              "          document.body.appendChild(div);\n",
              "          div.appendChild(video);\n",
              "          video.srcObject = stream;\n",
              "          await video.play();\n",
              "\n",
              "          // Resize the output to fit the video element.\n",
              "          google.colab.output.setIframeHeight(document.documentElement.scrollHeight, true);\n",
              "\n",
              "          // Wait for Capture to be clicked.\n",
              "          await new Promise((resolve) => capture.onclick = resolve);\n",
              "\n",
              "          const canvas = document.createElement('canvas');\n",
              "          canvas.width = video.videoWidth;\n",
              "          canvas.height = video.videoHeight;\n",
              "          canvas.getContext('2d').drawImage(video, 0, 0);\n",
              "          stream.getVideoTracks()[0].stop();\n",
              "          div.remove();\n",
              "          return canvas.toDataURL('image/jpeg', quality);\n",
              "        }\n",
              "    "
            ]
          },
          "metadata": {}
        },
        {
          "output_type": "stream",
          "name": "stderr",
          "text": [
            "WARNING:tensorflow:5 out of the last 8 calls to <function Model.make_predict_function.<locals>.predict_function at 0x7dc7dd492560> triggered tf.function retracing. Tracing is expensive and the excessive number of tracings could be due to (1) creating @tf.function repeatedly in a loop, (2) passing tensors with different shapes, (3) passing Python objects instead of tensors. For (1), please define your @tf.function outside of the loop. For (2), @tf.function has reduce_retracing=True option that can avoid unnecessary retracing. For (3), please refer to https://www.tensorflow.org/guide/function#controlling_retracing and https://www.tensorflow.org/api_docs/python/tf/function for  more details.\n"
          ]
        },
        {
          "output_type": "stream",
          "name": "stdout",
          "text": [
            "1/1 [==============================] - 1s 933ms/step\n",
            "Predicted label: impala\n"
          ]
        }
      ]
    },
    {
      "cell_type": "code",
      "source": [],
      "metadata": {
        "id": "P2WByBWscYZc"
      },
      "execution_count": null,
      "outputs": []
    }
  ]
}